{
 "cells": [
  {
   "cell_type": "code",
   "execution_count": 1,
   "id": "8a05290b-71a6-4440-b39f-9eac1d4bd54c",
   "metadata": {},
   "outputs": [
    {
     "name": "stdout",
     "output_type": "stream",
     "text": [
      "its true statement\n"
     ]
    }
   ],
   "source": [
    "a=30\n",
    "b=20\n",
    "if a==b:\n",
    "   print(\"its true statement\")\n",
    "elif a>=b:\n",
    "   print(\"its true statement\")\n",
    "else:\n",
    "   print(\"flase statement\")\n"
   ]
  },
  {
   "cell_type": "code",
   "execution_count": 2,
   "id": "823ffe46-958a-4b41-b727-bc65aa04611f",
   "metadata": {},
   "outputs": [
    {
     "name": "stdout",
     "output_type": "stream",
     "text": [
      "10\n",
      "20\n",
      "30\n",
      "40\n",
      "50\n",
      "60\n",
      "70\n",
      "20\n",
      "19\n",
      "18\n",
      "17\n",
      "16\n",
      "15\n",
      "14\n",
      "13\n",
      "12\n",
      "11\n",
      "10\n"
     ]
    }
   ],
   "source": [
    "a=[10,20,30,40,50,60,70]\n",
    "for value in a:\n",
    "    print(value)\n",
    "a=20\n",
    "while a>=10:\n",
    "      print(a)\n",
    "      a=a-1"
   ]
  },
  {
   "cell_type": "code",
   "execution_count": 4,
   "id": "a4b5235d-e586-4a54-9958-eeee4744b42e",
   "metadata": {},
   "outputs": [
    {
     "name": "stdout",
     "output_type": "stream",
     "text": [
      "10\n",
      "20\n",
      "30\n",
      "40\n",
      "50\n"
     ]
    }
   ],
   "source": [
    "a=[10,20,30,40,50,60,70,80]\n",
    "for value in a:\n",
    "    if value==60:\n",
    "          break\n",
    "    print(value)"
   ]
  },
  {
   "cell_type": "code",
   "execution_count": 5,
   "id": "a1423c8f-1551-43df-b74f-a8e32c2e1d44",
   "metadata": {},
   "outputs": [
    {
     "name": "stdout",
     "output_type": "stream",
     "text": [
      "31\n",
      "32\n",
      "33\n",
      "34\n",
      "35\n",
      "36\n",
      "37\n",
      "38\n",
      "39\n",
      "40\n",
      "41\n",
      "42\n",
      "43\n",
      "44\n",
      "45\n",
      "46\n",
      "47\n",
      "49\n",
      "50\n",
      "51\n"
     ]
    }
   ],
   "source": [
    "a=30\n",
    "while a<=50:\n",
    "      a=a+1\n",
    "      if a == 48:\n",
    "          continue\n",
    "      print(a)\n",
    "          \n"
   ]
  },
  {
   "cell_type": "code",
   "execution_count": 7,
   "id": "fbc6a7fc-caf3-4cd4-b1cc-33e3c2504629",
   "metadata": {},
   "outputs": [
    {
     "name": "stdout",
     "output_type": "stream",
     "text": [
      "hello_world\n"
     ]
    }
   ],
   "source": [
    "def name():\n",
    "   print(\"hello_world\")\n",
    "name()"
   ]
  },
  {
   "cell_type": "code",
   "execution_count": 16,
   "id": "3b5da9c6-0f85-476b-94a0-e9e9e3502fba",
   "metadata": {},
   "outputs": [
    {
     "name": "stdout",
     "output_type": "stream",
     "text": [
      "its_first_function\n",
      "its_first_function\n",
      "third_finction\n"
     ]
    }
   ],
   "source": [
    "def name():\n",
    "    print(\"its_first_function\")\n",
    "def raj():\n",
    "    print(\"its_second_function\")\n",
    "def function():\n",
    "     print(\"third_finction\")\n",
    "name()\n",
    "name()\n",
    "function()"
   ]
  },
  {
   "cell_type": "code",
   "execution_count": 21,
   "id": "3d87e342-3b5c-4910-86b3-892d2c06aa42",
   "metadata": {},
   "outputs": [
    {
     "name": "stdout",
     "output_type": "stream",
     "text": [
      "hello_world\n",
      "second_function\n",
      "third function\n"
     ]
    }
   ],
   "source": [
    "\n",
    "def raj():\n",
    "    print(\"hello_world\")\n",
    "    name()\n",
    "def name():\n",
    "    print(\"second_function\")\n",
    "    maddi()\n",
    "def maddi():\n",
    "    print(\"third function\")\n",
    "raj()"
   ]
  },
  {
   "cell_type": "code",
   "execution_count": 25,
   "id": "809bb01b-04fe-4d33-80eb-4bcfceadceb1",
   "metadata": {},
   "outputs": [
    {
     "name": "stdout",
     "output_type": "stream",
     "text": [
      "three_parameters_values 10 99.99 rajeshreddy\n"
     ]
    }
   ],
   "source": [
    "def name(a,b,c):\n",
    "   print(\"three_parameters_values\",a,b,c)\n",
    "name(10,99.99,\"rajeshreddy\")"
   ]
  },
  {
   "cell_type": "code",
   "execution_count": 27,
   "id": "52a5775c-dbd8-4e99-bf25-8b158f6d92de",
   "metadata": {},
   "outputs": [
    {
     "name": "stdout",
     "output_type": "stream",
     "text": [
      "hello_world\n",
      "rajeshreddy\n"
     ]
    }
   ],
   "source": [
    "def name():\n",
    "    print(\"hello_world\")\n",
    "    return \"rajeshreddy\"\n",
    "a=name()\n",
    "print(a)\n"
   ]
  },
  {
   "cell_type": "code",
   "execution_count": 28,
   "id": "ad4fdc8c-c7c6-4810-90e3-5e9525cde408",
   "metadata": {},
   "outputs": [
    {
     "name": "stdout",
     "output_type": "stream",
     "text": [
      "10 20 30\n"
     ]
    }
   ],
   "source": [
    "def name():\n",
    "    a=10\n",
    "    b=20\n",
    "    c=30\n",
    "    return a,b,c\n",
    "a,b,c=name()\n",
    "print(a,b,c)"
   ]
  },
  {
   "cell_type": "code",
   "execution_count": 29,
   "id": "fc097e80-3885-4f43-b1ac-da1b2b6bb8ab",
   "metadata": {},
   "outputs": [
    {
     "name": "stdout",
     "output_type": "stream",
     "text": [
      "(10, 20, 30)\n"
     ]
    }
   ],
   "source": [
    "def name():\n",
    "    a=10\n",
    "    b=20\n",
    "    c=30\n",
    "    return a,b,c\n",
    "a=name()\n",
    "print(a)"
   ]
  },
  {
   "cell_type": "code",
   "execution_count": 31,
   "id": "1e209385-8497-4de4-ae39-f19fb9d13949",
   "metadata": {},
   "outputs": [
    {
     "name": "stdin",
     "output_type": "stream",
     "text": [
      "enter_first_number 100\n",
      "enter_second_number 200\n"
     ]
    },
    {
     "name": "stdout",
     "output_type": "stream",
     "text": [
      "two values 100 200\n",
      "('100', '200')\n"
     ]
    }
   ],
   "source": [
    "def name(a,b):\n",
    "    print(\"two values\",a,b)\n",
    "    return a,b\n",
    "a=input(\"enter_first_number\")\n",
    "b=input(\"enter_second_number\")\n",
    "x=name(a,b)\n",
    "print(x)"
   ]
  },
  {
   "cell_type": "code",
   "execution_count": 35,
   "id": "b5026e41-39bc-44df-acb7-b812a8ea0068",
   "metadata": {},
   "outputs": [
    {
     "name": "stdout",
     "output_type": "stream",
     "text": [
      "hello_world\n",
      "its true statement\n"
     ]
    }
   ],
   "source": [
    "def name():\n",
    "     print(\"hello_world\")\n",
    "     return 100\n",
    "a=name()\n",
    "if 100==-100:\n",
    "    print(\"its true\")\n",
    "elif 100>=99:\n",
    "   print(\"its true statement\")\n",
    "else:\n",
    "    print(\"its_false_statement\")"
   ]
  },
  {
   "cell_type": "code",
   "execution_count": 37,
   "id": "2d784fa3-89d6-4976-8f40-6aca77b50d40",
   "metadata": {},
   "outputs": [
    {
     "name": "stdout",
     "output_type": "stream",
     "text": [
      "positional_arugements 10\n"
     ]
    }
   ],
   "source": [
    "def name(a):\n",
    "     print(\"positional_arugements\",a)\n",
    "name(10)\n"
   ]
  },
  {
   "cell_type": "code",
   "execution_count": 39,
   "id": "6d7c9f9c-99ad-41ef-8d53-3d3441896850",
   "metadata": {},
   "outputs": [
    {
     "name": "stdout",
     "output_type": "stream",
     "text": [
      "keyword_arugements 10 rajeshreddy\n"
     ]
    }
   ],
   "source": [
    "def name(a,b):\n",
    "   print(\"keyword_arugements\",a,b)\n",
    "name(10,\"rajeshreddy\")\n"
   ]
  },
  {
   "cell_type": "code",
   "execution_count": 41,
   "id": "5c86462c-33ca-4c39-a029-4876eecbc9cc",
   "metadata": {},
   "outputs": [
    {
     "name": "stdout",
     "output_type": "stream",
     "text": [
      "its default arugements 10 99\n"
     ]
    }
   ],
   "source": [
    "def raj(a=10,b=99):\n",
    "    print(\"its default arugements\",a,b)\n",
    "raj()"
   ]
  },
  {
   "cell_type": "code",
   "execution_count": 44,
   "id": "9eb0c58b-f6e2-42fd-b66a-b68765c61cab",
   "metadata": {},
   "outputs": [
    {
     "name": "stdout",
     "output_type": "stream",
     "text": [
      "variable length arugements (100, 200, 300, 400)\n"
     ]
    }
   ],
   "source": [
    "def var(*args):\n",
    "   print(\"variable length arugements\",(args))\n",
    "var(100,200,300,400)"
   ]
  },
  {
   "cell_type": "code",
   "execution_count": 47,
   "id": "a0fa6cce-f56c-4034-ab03-17148383bfb6",
   "metadata": {},
   "outputs": [
    {
     "name": "stdout",
     "output_type": "stream",
     "text": [
      "<function name at 0x0000027BDCBED1C0>\n",
      "<function <lambda> at 0x0000027BDCBED080>\n"
     ]
    }
   ],
   "source": [
    "def name():\n",
    "     print(\"hello_world\")\n",
    "print(name)\n",
    "a=lambda a : a+1\n",
    "print(a)"
   ]
  },
  {
   "cell_type": "code",
   "execution_count": 53,
   "id": "19b6dc10-fea7-4a8c-bdc9-1e987191ad38",
   "metadata": {},
   "outputs": [
    {
     "name": "stdout",
     "output_type": "stream",
     "text": [
      "61\n"
     ]
    }
   ],
   "source": [
    "a=lambda a,b,c : a+b+c+1\n",
    "result=a(10,20,30)\n",
    "print(result)"
   ]
  },
  {
   "cell_type": "code",
   "execution_count": 49,
   "id": "6d882dc7-2bd3-4662-85fb-a3b204b4487d",
   "metadata": {},
   "outputs": [
    {
     "name": "stdout",
     "output_type": "stream",
     "text": [
      "RAJESHREDDY\n"
     ]
    }
   ],
   "source": [
    "a=lambda a : a.upper()\n",
    "out=a(\"rajeshreddy\")\n",
    "print(out)"
   ]
  },
  {
   "cell_type": "code",
   "execution_count": 52,
   "id": "63fe0257-da7e-43ea-b189-45d9e1c08265",
   "metadata": {},
   "outputs": [
    {
     "name": "stdout",
     "output_type": "stream",
     "text": [
      "6000\n"
     ]
    }
   ],
   "source": [
    "a=lambda a,b,c:a*b*c*1\n",
    "result=a(10,20,30)\n",
    "print(result)"
   ]
  },
  {
   "cell_type": "code",
   "execution_count": 54,
   "id": "7b7cb93d-1167-440e-812a-52abdc79c480",
   "metadata": {},
   "outputs": [
    {
     "name": "stdout",
     "output_type": "stream",
     "text": [
      "<map object at 0x0000027BDC7C5750>\n",
      "[11, 21, 31, 41, 51, 61, 71, 81]\n"
     ]
    }
   ],
   "source": [
    "a=[10,20,30,40,50,60,70,80]\n",
    "m=map(lambda a : a+1,a)\n",
    "print(m)\n",
    "print(list(m))"
   ]
  },
  {
   "cell_type": "code",
   "execution_count": 58,
   "id": "f5e25fdc-8a0d-4bb8-818f-8b245e1b1db1",
   "metadata": {},
   "outputs": [
    {
     "name": "stdout",
     "output_type": "stream",
     "text": [
      "<filter object at 0x0000027BDC7C5D80>\n",
      "[60, 70, 80, 90]\n"
     ]
    }
   ],
   "source": [
    "a=[10,20,30,40,50,60,70,80,90]\n",
    "f=filter(lambda a :a>50, a)\n",
    "print(f)\n",
    "print(list(f))"
   ]
  },
  {
   "cell_type": "code",
   "execution_count": 67,
   "id": "762e47d2-d522-496f-8a52-902d700202ec",
   "metadata": {},
   "outputs": [
    {
     "name": "stdout",
     "output_type": "stream",
     "text": [
      "hello world 'programming' languagge\n",
      "11\n",
      "l\n",
      " \n",
      "o wor\n",
      "e\n",
      "hello world programming languagg\n",
      "guag\n",
      "h\n",
      "e\n",
      "l\n",
      "l\n",
      "o\n",
      "hellostring\n",
      "helloworldprogramminghelloworldprogramming\n"
     ]
    }
   ],
   "source": [
    "a=\"hello world 'programming' languagge\"\n",
    "print(a)\n",
    "a=\"hello_world\"\n",
    "print(len(a))\n",
    "a=\"hello world programming languagge\"\n",
    "print(a[2])\n",
    "print(a[5])\n",
    "print(a[4:9])\n",
    "print(a[-1])\n",
    "print(a[:-1])\n",
    "print(a[-6:-2])\n",
    "a=\"hello\"\n",
    "for value in a:\n",
    "    print(value)\n",
    "a=\"hello\"\n",
    "b=\"string\"\n",
    "print(a+b)\n",
    "a=\"helloworldprogramming\"\n",
    "print(a*2)\n",
    "\n",
    "\n"
   ]
  },
  {
   "cell_type": "code",
   "execution_count": 68,
   "id": "9d84808b-71b9-4a4e-b368-deeff7630710",
   "metadata": {},
   "outputs": [
    {
     "name": "stdout",
     "output_type": "stream",
     "text": [
      "first_method\n",
      "second method\n"
     ]
    }
   ],
   "source": [
    "class Rajesh:\n",
    "     def name(self):\n",
    "          print(\"first_method\")\n",
    "     def raj(self):\n",
    "          print(\"second method\")\n",
    "a=Rajesh()\n",
    "a.name()\n",
    "a.raj()"
   ]
  },
  {
   "cell_type": "code",
   "execution_count": 73,
   "id": "9658e0bf-493e-4b89-9ad1-50f0d0341b7d",
   "metadata": {},
   "outputs": [
    {
     "name": "stdout",
     "output_type": "stream",
     "text": [
      "['__add__', '__class__', '__contains__', '__delattr__', '__dir__', '__doc__', '__eq__', '__format__', '__ge__', '__getattribute__', '__getitem__', '__getnewargs__', '__getstate__', '__gt__', '__hash__', '__init__', '__init_subclass__', '__iter__', '__le__', '__len__', '__lt__', '__mod__', '__mul__', '__ne__', '__new__', '__reduce__', '__reduce_ex__', '__repr__', '__rmod__', '__rmul__', '__setattr__', '__sizeof__', '__str__', '__subclasshook__', 'capitalize', 'casefold', 'center', 'count', 'encode', 'endswith', 'expandtabs', 'find', 'format', 'format_map', 'index', 'isalnum', 'isalpha', 'isascii', 'isdecimal', 'isdigit', 'isidentifier', 'islower', 'isnumeric', 'isprintable', 'isspace', 'istitle', 'isupper', 'join', 'ljust', 'lower', 'lstrip', 'maketrans', 'partition', 'removeprefix', 'removesuffix', 'replace', 'rfind', 'rindex', 'rjust', 'rpartition', 'rsplit', 'rstrip', 'split', 'splitlines', 'startswith', 'strip', 'swapcase', 'title', 'translate', 'upper', 'zfill']\n",
      "HELLO_WORLD_PROGRAMMING\n",
      "2\n",
      "today_is_saturday\n",
      "tomorrow is sunday\n",
      "['hello', 'world', 'programming']\n"
     ]
    }
   ],
   "source": [
    "print(dir(str))\n",
    "a=\"hello_world_programming\"\n",
    "print(a.upper())\n",
    "print(a.count('m'))\n",
    "a=\"  today_is_saturday  \"\n",
    "print(a.strip())\n",
    "a=\"today is sunday\"\n",
    "print(a.replace(\"today\",\"tomorrow\"))\n",
    "a=\"hello world programming\"\n",
    "print(a.split())\n",
    "\n"
   ]
  },
  {
   "cell_type": "code",
   "execution_count": null,
   "id": "bd56f692-b1d0-4912-8943-a079549ebf80",
   "metadata": {},
   "outputs": [],
   "source": []
  }
 ],
 "metadata": {
  "kernelspec": {
   "display_name": "Python 3 (ipykernel)",
   "language": "python",
   "name": "python3"
  },
  "language_info": {
   "codemirror_mode": {
    "name": "ipython",
    "version": 3
   },
   "file_extension": ".py",
   "mimetype": "text/x-python",
   "name": "python",
   "nbconvert_exporter": "python",
   "pygments_lexer": "ipython3",
   "version": "3.13.1"
  }
 },
 "nbformat": 4,
 "nbformat_minor": 5
}
