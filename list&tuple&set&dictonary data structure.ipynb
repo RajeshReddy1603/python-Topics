{
 "cells": [
  {
   "cell_type": "code",
   "execution_count": 27,
   "id": "b6134b4c-9b84-49c9-b5c2-255244acc6b1",
   "metadata": {},
   "outputs": [
    {
     "name": "stdout",
     "output_type": "stream",
     "text": [
      "[10, 20, 30, 40]\n",
      "[10, 99.99, 'rajesh']\n",
      "[10, 20, 30, 40]\n",
      "88\n",
      "[10, 20, 30, 40, 50]\n",
      "[10, 20, 30, 40, 50, 10, 20]\n",
      "20\n",
      "60\n",
      "[40, 50, 60]\n",
      "[10, 20, 30, 40, 50, 60, 70]\n",
      "[30, 40, 50, 60]\n",
      "10\n",
      "20\n",
      "30\n",
      "40\n",
      "50\n",
      "60\n",
      "70\n",
      "80\n",
      "4\n",
      "[10, 20, 100, 40, 50, 60, 70]\n",
      "[10, 11, 12, 13, 14, 15, 16, 17, 18, 19]\n",
      "[10, 20, 30, 40, 50, 60, 70, 80]\n"
     ]
    }
   ],
   "source": [
    "a=[10,20,30,40]\n",
    "print(a)\n",
    "a=[10,99.99,\"rajesh\"]\n",
    "print(a)\n",
    "from sys import getsizeof\n",
    "a=[10,20,30,40]\n",
    "print(a)\n",
    "print(getsizeof(a))\n",
    "a=[10,20,30,40,50]\n",
    "print(a)\n",
    "a=[10,20,30,40,50,10,20]\n",
    "print(a)\n",
    "a=[10,20,30,40,50,60,70,80]\n",
    "print(a[1])\n",
    "print(a[5])\n",
    "print(a[3:6])\n",
    "print(a[:-1])\n",
    "print(a[-6:-2])\n",
    "for value in a:\n",
    "    print(value)\n",
    "a=[10,20,30,40]\n",
    "print(len(a))\n",
    "a=[10,20,30,40,50,60,70]\n",
    "a[2]=100\n",
    "print(a)\n",
    "a=range(10,20)\n",
    "b=list(a)\n",
    "print(b)\n",
    "a=[10,20,30,40]\n",
    "b=[50,60,70,80]\n",
    "print(a+b)\n"
   ]
  },
  {
   "cell_type": "code",
   "execution_count": 22,
   "id": "ae2f7099-5774-4186-864c-313f63698f7b",
   "metadata": {},
   "outputs": [
    {
     "name": "stdout",
     "output_type": "stream",
     "text": [
      "these is a method\n",
      "['__add__', '__class__', '__class_getitem__', '__contains__', '__delattr__', '__delitem__', '__dir__', '__doc__', '__eq__', '__format__', '__ge__', '__getattribute__', '__getitem__', '__getstate__', '__gt__', '__hash__', '__iadd__', '__imul__', '__init__', '__init_subclass__', '__iter__', '__le__', '__len__', '__lt__', '__mul__', '__ne__', '__new__', '__reduce__', '__reduce_ex__', '__repr__', '__reversed__', '__rmul__', '__setattr__', '__setitem__', '__sizeof__', '__str__', '__subclasshook__', 'append', 'clear', 'copy', 'count', 'extend', 'index', 'insert', 'pop', 'remove', 'reverse', 'sort']\n",
      "[10, 20, 30, 40, 50, 60, 100]\n",
      "2\n",
      "[10, 20, 200, 30, 40, 50]\n",
      "[10, 20, 30, 50]\n",
      "[10, 20, 30, 40, 50, 60]\n",
      "[60, 50, 40, 30, 20, 10]\n",
      "[12, 22, 32, 42, 52]\n",
      "[60, 70, 80]\n",
      "(10, 20, 30, 40, 50)\n"
     ]
    }
   ],
   "source": [
    "class Rajesh:\n",
    "     def name(self):\n",
    "          print(\"these is a method\")\n",
    "a=Rajesh()\n",
    "a.name()\n",
    "print(dir(list))\n",
    "a=[10,20,30,40,50,60]\n",
    "a.append(100)\n",
    "print(a)\n",
    "a=[10,20,30,40,10]\n",
    "print(a.count(10))\n",
    "a=[10,20,30,40,50]\n",
    "a.insert(2,200)\n",
    "print(a)\n",
    "a=[10,20,30,40,50]\n",
    "a.remove(40)\n",
    "print(a)\n",
    "a=[10,20,30,40,50,60]\n",
    "a.sort()\n",
    "print(a)\n",
    "a=[10,20,30,40,50,60]\n",
    "a.sort(reverse=True)\n",
    "print(a)\n",
    "a=[10,20,30,40,50]\n",
    "b=[  value+2\n",
    "   for value in a]\n",
    "print(b)\n",
    "a=[10,20,30,40,50,60,70,80]\n",
    "b=[   value\n",
    "   for value in a\n",
    "    if value>50]\n",
    "print(b)"
   ]
  },
  {
   "cell_type": "code",
   "execution_count": 30,
   "id": "66272b9d-9ccc-4f11-923b-579c9215ef85",
   "metadata": {},
   "outputs": [
    {
     "name": "stdout",
     "output_type": "stream",
     "text": [
      "(10, 20, 30, 40, 50)\n",
      "(10, 20, 30)\n",
      "(10, 99.99, 'rajeshreddy')\n",
      "(10, 20, 30, 40, 50)\n",
      "(10, 20, 30, 40, 50, 60, 10)\n",
      "30\n",
      "50\n",
      "(30, 40)\n",
      "(20, 30, 40)\n",
      "10\n",
      "20\n",
      "30\n",
      "40\n",
      "50\n",
      "3\n",
      "(10, 20, 30, 40, 50)\n",
      "True\n",
      "True\n",
      "False\n"
     ]
    }
   ],
   "source": [
    "a=(10,20,30,40,50)\n",
    "print(a)\n",
    "b=10,20,30\n",
    "print(b)\n",
    "a=(10,99.99,\"rajeshreddy\")\n",
    "print(a)\n",
    "a=(10,20,30,40,50)\n",
    "print(a)\n",
    "a=(10,20,30,40,50,60,10)\n",
    "print(a)\n",
    "a=(10,20,30,40,50)\n",
    "print(a[2])\n",
    "print(a[4])\n",
    "print(a[2:4])\n",
    "print(a[-4:-1])\n",
    "for value in a:\n",
    "    print(value)\n",
    "a=(10,20,30)\n",
    "print(len(a))\n",
    "a=[10,20,30,40,50]\n",
    "b=tuple(a)\n",
    "print(b)\n",
    "a=(10,20,30)\n",
    "print(10 in a)\n",
    "print(30 in a)\n",
    "print(899 in a)\n"
   ]
  },
  {
   "cell_type": "code",
   "execution_count": 34,
   "id": "f5fbd646-402b-42d1-b1f6-268bdcb2942b",
   "metadata": {},
   "outputs": [
    {
     "name": "stdout",
     "output_type": "stream",
     "text": [
      "these is a method\n",
      "['__add__', '__class__', '__class_getitem__', '__contains__', '__delattr__', '__dir__', '__doc__', '__eq__', '__format__', '__ge__', '__getattribute__', '__getitem__', '__getnewargs__', '__getstate__', '__gt__', '__hash__', '__init__', '__init_subclass__', '__iter__', '__le__', '__len__', '__lt__', '__mul__', '__ne__', '__new__', '__reduce__', '__reduce_ex__', '__repr__', '__rmul__', '__setattr__', '__sizeof__', '__str__', '__subclasshook__', 'count', 'index']\n",
      "3\n",
      "4\n",
      "(10, 20, 30, 40, [50, 60, 100], 70, 80)\n"
     ]
    }
   ],
   "source": [
    "class Rajesh:\n",
    "      def name(self):\n",
    "           print(\"these is a method\")\n",
    "a=Rajesh()\n",
    "a.name()\n",
    "print(dir(tuple))\n",
    "a=(10,20,30,40,10,10)\n",
    "print(a.count(10))\n",
    "a=(10,20,30,40,50)\n",
    "a=(10,20,30,40,50)\n",
    "print(a.index(50))\n",
    "a=(10,20,30,40,[50,60],70,80)\n",
    "a[4].append(100)\n",
    "print(a)"
   ]
  },
  {
   "cell_type": "code",
   "execution_count": 12,
   "id": "49d8efe9-1237-4ad5-ba63-a313b5057f91",
   "metadata": {},
   "outputs": [
    {
     "name": "stdout",
     "output_type": "stream",
     "text": [
      "{40, 10, 20, 30}\n",
      "{10, 99.99, 'rajeshreddy'}\n",
      "216\n",
      "{40, 10, 20, 30}\n",
      "{40, 10, 20, 30}\n",
      "{100, 40, 10, 20, 30}\n",
      "40\n",
      "10\n",
      "20\n",
      "30\n",
      "5\n",
      "<class 'set'>\n",
      "<class 'dict'>\n",
      "<class 'set'>\n",
      "{40, 10, 50, 20, 30}\n",
      "these is a method\n",
      "['__and__', '__class__', '__class_getitem__', '__contains__', '__delattr__', '__dir__', '__doc__', '__eq__', '__format__', '__ge__', '__getattribute__', '__getstate__', '__gt__', '__hash__', '__iand__', '__init__', '__init_subclass__', '__ior__', '__isub__', '__iter__', '__ixor__', '__le__', '__len__', '__lt__', '__ne__', '__new__', '__or__', '__rand__', '__reduce__', '__reduce_ex__', '__repr__', '__ror__', '__rsub__', '__rxor__', '__setattr__', '__sizeof__', '__str__', '__sub__', '__subclasshook__', '__xor__', 'add', 'clear', 'copy', 'difference', 'difference_update', 'discard', 'intersection', 'intersection_update', 'isdisjoint', 'issubset', 'issuperset', 'pop', 'remove', 'symmetric_difference', 'symmetric_difference_update', 'union', 'update']\n",
      "{50, 20, 100, 40, 10, 30}\n",
      "{50, 20, 10, 30}\n",
      "set()\n"
     ]
    }
   ],
   "source": [
    "a={10,20,30,40}\n",
    "print(a)\n",
    "a={10,99.99,\"rajeshreddy\"}\n",
    "print(a)\n",
    "from sys import getsizeof\n",
    "a={10,20,30}\n",
    "print(getsizeof(a))\n",
    "a={10,20,30,40}\n",
    "print(a)\n",
    "a={10,20,30,40,10,10}\n",
    "print(a)\n",
    "a={10,20,30,40}\n",
    "a.add(100)\n",
    "print(a)\n",
    "a={10,20,30,40}\n",
    "for value in a:\n",
    "    print(value)\n",
    "a={10,20,30,40,50}\n",
    "print(len(a))\n",
    "a={10}\n",
    "print(type(a))\n",
    "a={}\n",
    "print(type(a))\n",
    "a=set()\n",
    "print(type(a))\n",
    "a=[10,20,30,40,50,10,10,10]\n",
    "b=set(a)\n",
    "print(b)\n",
    "class Rajesh:\n",
    "      def name(self):\n",
    "          print(\"these is a method\")\n",
    "a=Rajesh()\n",
    "a.name()\n",
    "print(dir(set))\n",
    "a={10,20,30,40,50}\n",
    "a.add(100)\n",
    "print(a)\n",
    "a={10,20,30,40,50}\n",
    "a.remove(40)\n",
    "print(a)\n",
    "a={10,20,30,40}\n",
    "a.clear()\n",
    "print(a)\n"
   ]
  },
  {
   "cell_type": "code",
   "execution_count": 15,
   "id": "889289c0-69c7-4eeb-9990-f07b0c338f72",
   "metadata": {},
   "outputs": [
    {
     "name": "stdout",
     "output_type": "stream",
     "text": [
      "{101: 'rajesh', 102: 'maddi', 103: 'today'}\n",
      "{101: 'rajesh', 102: 'maddi', 103: 'today'}\n"
     ]
    }
   ],
   "source": [
    "a={101:\"rajesh\",102:\"maddi\",103:\"today\"}\n",
    "print(a)\n",
    "a={}\n",
    "a[101]=\"rajesh\"\n",
    "a[102]=\"maddi\"\n",
    "a[103]=\"today\"\n",
    "print(a)"
   ]
  },
  {
   "cell_type": "markdown",
   "id": "4175b4d4-495e-4a68-8728-ac9096b8126d",
   "metadata": {},
   "source": [
    "#update value for dict\n"
   ]
  },
  {
   "cell_type": "code",
   "execution_count": 16,
   "id": "83e32e79-49ce-4e0b-b06b-01c1eb41d73f",
   "metadata": {},
   "outputs": [
    {
     "name": "stdout",
     "output_type": "stream",
     "text": [
      "{101: 'tomorrow', 102: 'maddi', 103: 'today', 104: 'hyderbad'}\n"
     ]
    }
   ],
   "source": [
    "a={101:\"rajesh\",102:\"maddi\",103:\"today\"}\n",
    "a[104]=\"hyderbad\"\n",
    "a[101]=\"tomorrow\"\n",
    "print(a)"
   ]
  },
  {
   "cell_type": "markdown",
   "id": "3d1cdeec-c989-4307-bd23-50bec7c371c7",
   "metadata": {},
   "source": [
    "creating for loop dict"
   ]
  },
  {
   "cell_type": "code",
   "execution_count": 18,
   "id": "40d8fddd-2a2a-4942-9fcb-9ec1da79c626",
   "metadata": {},
   "outputs": [
    {
     "name": "stdout",
     "output_type": "stream",
     "text": [
      "101\n",
      "102\n",
      "103\n",
      "104\n",
      "101 rajesh\n",
      "102 maddi\n",
      "103 today\n",
      "104 tomorrow\n"
     ]
    }
   ],
   "source": [
    "a={101:\"rajesh\",102:\"maddi\",103:\"today\",104:\"tomorrow\"}\n",
    "for value in a:\n",
    "    print(value)\n",
    "for value  in a:\n",
    "    print(value,a[value])"
   ]
  },
  {
   "cell_type": "markdown",
   "id": "fe6c2b8c-dc36-4f32-a7e1-027da4eac4d1",
   "metadata": {},
   "source": [
    "deleting for any key dict\n"
   ]
  },
  {
   "cell_type": "code",
   "execution_count": 22,
   "id": "530ffaa6-57dd-4820-a1e8-c61d27c296fd",
   "metadata": {},
   "outputs": [
    {
     "name": "stdout",
     "output_type": "stream",
     "text": [
      "{101: 'rajesh', 103: 'today'}\n"
     ]
    }
   ],
   "source": [
    "a={101:\"rajesh\",102:\"maddi\",103:\"today\"}\n",
    "del a[102]\n",
    "print(a)\n",
    "del a"
   ]
  },
  {
   "cell_type": "markdown",
   "id": "c4ad3b63-fdc7-4c09-9739-248763a9d230",
   "metadata": {},
   "source": [
    "#Now dict have methods "
   ]
  },
  {
   "cell_type": "code",
   "execution_count": 25,
   "id": "d4b0b671-0c31-48a7-bca0-44ab720aa699",
   "metadata": {},
   "outputs": [
    {
     "name": "stdout",
     "output_type": "stream",
     "text": [
      "these is a dictonary\n"
     ]
    }
   ],
   "source": [
    "class Rajesh:\n",
    "      def name(self):\n",
    "           print(\"these is a dictonary\")\n",
    "a=Rajesh()\n",
    "a.name()\n"
   ]
  },
  {
   "cell_type": "markdown",
   "id": "ceef322b-5831-41c8-b7b6-bc17051221d0",
   "metadata": {},
   "source": [
    "#now checking the methods for dictonary using dir function\n"
   ]
  },
  {
   "cell_type": "code",
   "execution_count": 27,
   "id": "9fab26e5-90ff-4edb-805f-c0f152dd3ca1",
   "metadata": {},
   "outputs": [
    {
     "name": "stdout",
     "output_type": "stream",
     "text": [
      "['__class__', '__class_getitem__', '__contains__', '__delattr__', '__delitem__', '__dir__', '__doc__', '__eq__', '__format__', '__ge__', '__getattribute__', '__getitem__', '__getstate__', '__gt__', '__hash__', '__init__', '__init_subclass__', '__ior__', '__iter__', '__le__', '__len__', '__lt__', '__ne__', '__new__', '__or__', '__reduce__', '__reduce_ex__', '__repr__', '__reversed__', '__ror__', '__setattr__', '__setitem__', '__sizeof__', '__str__', '__subclasshook__', 'clear', 'copy', 'fromkeys', 'get', 'items', 'keys', 'pop', 'popitem', 'setdefault', 'update', 'values']\n",
      "dict_keys([101, 102, 103])\n",
      "dict_values(['rajesh', 'maddi', 'today'])\n",
      "None\n",
      "dict_items([])\n",
      "101 rajesh\n",
      "102 maddi\n",
      "103 today\n"
     ]
    }
   ],
   "source": [
    "print(dir(dict))\n",
    "a={101:\"rajesh\",102:\"maddi\",103:\"today\"}\n",
    "print(a.keys())\n",
    "print(a.values())\n",
    "print(a.clear())\n",
    "print(a.items())\n",
    "a={101:\"rajesh\",102:\"maddi\",103:\"today\"}\n",
    "for a,b in a.items():\n",
    "     print(a,b)\n"
   ]
  },
  {
   "cell_type": "code",
   "execution_count": null,
   "id": "138b13f0-8edd-4ec7-b4b7-46262830ab14",
   "metadata": {},
   "outputs": [],
   "source": []
  }
 ],
 "metadata": {
  "kernelspec": {
   "display_name": "Python 3 (ipykernel)",
   "language": "python",
   "name": "python3"
  },
  "language_info": {
   "codemirror_mode": {
    "name": "ipython",
    "version": 3
   },
   "file_extension": ".py",
   "mimetype": "text/x-python",
   "name": "python",
   "nbconvert_exporter": "python",
   "pygments_lexer": "ipython3",
   "version": "3.13.1"
  }
 },
 "nbformat": 4,
 "nbformat_minor": 5
}
