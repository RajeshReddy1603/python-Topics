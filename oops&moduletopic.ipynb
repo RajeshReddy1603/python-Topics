{
 "cells": [
  {
   "cell_type": "markdown",
   "id": "e3ecb529-8a0c-4e16-9a51-1f9f9b1fa818",
   "metadata": {},
   "source": [
    "#now im creating class function"
   ]
  },
  {
   "cell_type": "code",
   "execution_count": 1,
   "id": "cec9e41e-f69e-4cdf-903b-443ced0eeae7",
   "metadata": {},
   "outputs": [
    {
     "name": "stdout",
     "output_type": "stream",
     "text": [
      "these is a class\n"
     ]
    }
   ],
   "source": [
    "class Rajesh:\n",
    "       def __init__(self):\n",
    "           print(\"these is a class\")\n",
    "a=Rajesh()"
   ]
  },
  {
   "cell_type": "markdown",
   "id": "74760872-9b31-4e4f-8979-66cb8001d5cd",
   "metadata": {},
   "source": [
    "#now using object getting output threee times"
   ]
  },
  {
   "cell_type": "code",
   "execution_count": 3,
   "id": "6225875a-f7ab-428b-9efb-dc6c7cf2d0a4",
   "metadata": {},
   "outputs": [
    {
     "name": "stdout",
     "output_type": "stream",
     "text": [
      "these is a class\n",
      "these is a class\n",
      "these is a class\n"
     ]
    }
   ],
   "source": [
    "class Rajesh:\n",
    "     def __init__(self):\n",
    "            print(\"these is a class\")\n",
    "a=Rajesh()\n",
    "a=Rajesh()\n",
    "a=Rajesh()"
   ]
  },
  {
   "cell_type": "markdown",
   "id": "c0fffe96-e5d1-4c23-a0bd-294040655cde",
   "metadata": {},
   "source": [
    "#now inside creating instace variables and calling method also"
   ]
  },
  {
   "cell_type": "code",
   "execution_count": 6,
   "id": "9c85d604-0301-499d-a64d-282e72485cea",
   "metadata": {},
   "outputs": [
    {
     "name": "stdout",
     "output_type": "stream",
     "text": [
      "first value 100\n",
      "second value 99.99\n",
      "third value rajeshreddy\n"
     ]
    }
   ],
   "source": [
    "class Rajesh:\n",
    "      def __init__(self,a,b,c):\n",
    "            self.a=a\n",
    "            self.b=b\n",
    "            self.c=c\n",
    "      def name(self):\n",
    "            print(\"first value\",self.a)\n",
    "            print(\"second value\",self.b)\n",
    "            print(\"third value\",self.c)\n",
    "a=Rajesh(100,99.99,\"rajeshreddy\")\n",
    "a.name()\n"
   ]
  },
  {
   "cell_type": "markdown",
   "id": "bcb4f9e2-42ef-47bb-a0dd-786c4c768ddf",
   "metadata": {},
   "source": [
    "#creating to many objects also class and pass the parameter value"
   ]
  },
  {
   "cell_type": "code",
   "execution_count": 7,
   "id": "5474857e-0a68-4a4b-81d5-7a9fbcf64115",
   "metadata": {},
   "outputs": [
    {
     "name": "stdout",
     "output_type": "stream",
     "text": [
      "first value 100\n",
      "second value 99.99\n",
      "third value rajeshreddy\n",
      "first value 10\n",
      "second value 20\n",
      "third value 300\n",
      "first value 99.99\n",
      "second value 200\n",
      "third value maddireddy\n"
     ]
    }
   ],
   "source": [
    "class Rajesh:\n",
    "      def __init__(self,a,b,c):\n",
    "            self.a=a\n",
    "            self.b=b\n",
    "            self.c=c\n",
    "      def name(self):\n",
    "            print(\"first value\",self.a)\n",
    "            print(\"second value\",self.b)\n",
    "            print(\"third value\",self.c)\n",
    "a=Rajesh(100,99.99,\"rajeshreddy\")\n",
    "b=Rajesh(10,20,300)\n",
    "c=Rajesh(99.99,200,\"maddireddy\")\n",
    "a.name()\n",
    "b.name()\n",
    "c.name()"
   ]
  },
  {
   "cell_type": "markdown",
   "id": "64b437c6-aa3f-4ba7-aeee-a5edcb485f05",
   "metadata": {},
   "source": [
    "#another topic is Module"
   ]
  },
  {
   "cell_type": "markdown",
   "id": "95b1c09b-7698-439d-9975-15454dbefdaa",
   "metadata": {},
   "source": [
    "#module topic contains one folder another folder is called module topic\n",
    "#im using import keyword"
   ]
  },
  {
   "cell_type": "code",
   "execution_count": 9,
   "id": "220ff552-d638-4e38-a705-2bfc3772f9d2",
   "metadata": {},
   "outputs": [
    {
     "name": "stdout",
     "output_type": "stream",
     "text": [
      "99\n",
      "first parameter 100\n"
     ]
    }
   ],
   "source": [
    "import rajesh\n",
    "print(rajesh.a)\n",
    "rajesh.name(100)"
   ]
  },
  {
   "cell_type": "markdown",
   "id": "c7758b19-fe3b-4425-ac8e-ed38f7bc3dec",
   "metadata": {},
   "source": [
    "#now using as keyword alis the folder name"
   ]
  },
  {
   "cell_type": "code",
   "execution_count": 10,
   "id": "fda12ce9-0eac-484e-a8a9-41f9f4e3c415",
   "metadata": {},
   "outputs": [
    {
     "name": "stdout",
     "output_type": "stream",
     "text": [
      "99\n",
      "first parameter 200\n"
     ]
    }
   ],
   "source": [
    "import rajesh as rr\n",
    "print(rr.a)\n",
    "rr.name(200)"
   ]
  },
  {
   "cell_type": "markdown",
   "id": "7f261c33-dffc-494d-805e-da6664c72de6",
   "metadata": {},
   "source": [
    "#now from and import keyword using module and dont need acess to member of module"
   ]
  },
  {
   "cell_type": "code",
   "execution_count": 12,
   "id": "13eb4b0e-3fe0-4ee1-9691-1a9eca030639",
   "metadata": {},
   "outputs": [
    {
     "name": "stdout",
     "output_type": "stream",
     "text": [
      "99\n",
      "first parameter rajeshreddy\n"
     ]
    }
   ],
   "source": [
    "from rajesh import a\n",
    "from rajesh import name\n",
    "print(a)\n",
    "name(\"rajeshreddy\")"
   ]
  },
  {
   "cell_type": "markdown",
   "id": "8ea7b2a6-9855-4aba-9924-5fdfeb57f271",
   "metadata": {},
   "source": [
    "#In module * indicates contains all members of module"
   ]
  },
  {
   "cell_type": "code",
   "execution_count": 14,
   "id": "30512039-d212-40d8-99ef-516e2e48d81c",
   "metadata": {},
   "outputs": [
    {
     "name": "stdout",
     "output_type": "stream",
     "text": [
      "99\n",
      "first parameter 100\n"
     ]
    }
   ],
   "source": [
    "from rajesh import *\n",
    "print(a)\n",
    "name(100)"
   ]
  },
  {
   "cell_type": "markdown",
   "id": "771f23fa-7214-4fcf-8da7-f064cd88982f",
   "metadata": {},
   "source": [
    "#using as keyword change members module name also"
   ]
  },
  {
   "cell_type": "code",
   "execution_count": 15,
   "id": "2e414478-1389-451c-9175-52124bdb91d3",
   "metadata": {},
   "outputs": [
    {
     "name": "stdout",
     "output_type": "stream",
     "text": [
      "99\n",
      "first parameter rajesh\n"
     ]
    }
   ],
   "source": [
    "from rajesh import a as x,name as keyword\n",
    "print(x)\n",
    "keyword(\"rajesh\")"
   ]
  },
  {
   "cell_type": "code",
   "execution_count": null,
   "id": "c6c70dc3-bfa1-49d1-9507-3860f61d8ebb",
   "metadata": {},
   "outputs": [],
   "source": []
  }
 ],
 "metadata": {
  "kernelspec": {
   "display_name": "Python 3 (ipykernel)",
   "language": "python",
   "name": "python3"
  },
  "language_info": {
   "codemirror_mode": {
    "name": "ipython",
    "version": 3
   },
   "file_extension": ".py",
   "mimetype": "text/x-python",
   "name": "python",
   "nbconvert_exporter": "python",
   "pygments_lexer": "ipython3",
   "version": "3.13.1"
  }
 },
 "nbformat": 4,
 "nbformat_minor": 5
}
